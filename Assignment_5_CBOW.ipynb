{
 "cells": [
  {
   "cell_type": "code",
   "execution_count": 24,
   "id": "b74f0682",
   "metadata": {},
   "outputs": [
    {
     "name": "stderr",
     "output_type": "stream",
     "text": [
      "C:\\Users\\Akash Dangare\\AppData\\Local\\Programs\\Python\\Python310\\lib\\site-packages\\scipy\\__init__.py:155: UserWarning: A NumPy version >=1.18.5 and <1.25.0 is required for this version of SciPy (detected version 1.26.1\n",
      "  warnings.warn(f\"A NumPy version >={np_minversion} and <{np_maxversion}\"\n"
     ]
    }
   ],
   "source": [
    "import matplotlib.pyplot as plt\n",
    "import seaborn as sns\n",
    "import matplotlib as mpl\n",
    "import matplotlib.pylab as pylab\n",
    "import numpy as np"
   ]
  },
  {
   "cell_type": "code",
   "execution_count": 25,
   "id": "ade41851",
   "metadata": {},
   "outputs": [],
   "source": [
    "import re"
   ]
  },
  {
   "cell_type": "code",
   "execution_count": 26,
   "id": "356f73b8",
   "metadata": {},
   "outputs": [],
   "source": [
    "sentences = \"\"\"We are about to study the idea of a computational process.\n",
    "Computational processes are abstract beings that inhabit computers.\n",
    "As they evolve, processes manipulate other abstract things called data.\n",
    "The evolution of a process is directed by a pattern of rules\n",
    "called a program !@# People create programs to direct processes. In effect,\n",
    "we conjure the spirits of the computer with our spells. \"\"\""
   ]
  },
  {
   "cell_type": "code",
   "execution_count": 27,
   "id": "d550a99d",
   "metadata": {},
   "outputs": [
    {
     "data": {
      "text/plain": [
       "'we are about to study the idea of   computational process computational processes are abstract beings that inhabit computers as they evolve processes manipulate other abstract things called data the evolution of   process is directed by   pattern of rules called   program people create programs to direct processes in effect we conjure the spirits of the computer with our spells '"
      ]
     },
     "execution_count": 27,
     "metadata": {},
     "output_type": "execute_result"
    }
   ],
   "source": [
    "sentences = re.sub(r'[^a-zA-Z0-9]+',' ',sentences)\n",
    "sentences = re.sub(r'\\b\\w\\b',' ',sentences)\n",
    "sentences = sentences.lower()\n",
    "sentences"
   ]
  },
  {
   "cell_type": "code",
   "execution_count": 28,
   "id": "37717116",
   "metadata": {},
   "outputs": [],
   "source": [
    "words = sentences.split()\n",
    "vocab = set(words)\n",
    "# vocab"
   ]
  },
  {
   "cell_type": "code",
   "execution_count": 29,
   "id": "41b74d8c",
   "metadata": {},
   "outputs": [],
   "source": [
    "embed_dim=10\n",
    "context_size=2\n",
    "vocab_size=len(vocab)\n",
    "# vocab_size"
   ]
  },
  {
   "cell_type": "code",
   "execution_count": 30,
   "id": "2d8946e6",
   "metadata": {},
   "outputs": [],
   "source": [
    "words_to_ix = {word : i for i,word in enumerate(vocab)}\n",
    "ix_to_words = {i : word for i,word in enumerate(vocab)}"
   ]
  },
  {
   "cell_type": "code",
   "execution_count": 31,
   "id": "29aabb93",
   "metadata": {},
   "outputs": [],
   "source": [
    "data = []\n",
    "\n",
    "for i in range(2,len(words)-2):\n",
    "    context = [words[i-2],words[i-1],words[i+1],words[i+2]]\n",
    "    target = words[i]\n",
    "    data.append((context,target))\n",
    "# print(data)"
   ]
  },
  {
   "cell_type": "code",
   "execution_count": 32,
   "id": "503d3889",
   "metadata": {},
   "outputs": [],
   "source": [
    "embeddings = np.random.random_sample((vocab_size,embed_dim))\n",
    "# embeddings"
   ]
  },
  {
   "cell_type": "code",
   "execution_count": 33,
   "id": "b9aa3591",
   "metadata": {},
   "outputs": [],
   "source": [
    "def linear(m,theta):\n",
    "    w = theta\n",
    "    return m.dot(w)"
   ]
  },
  {
   "cell_type": "code",
   "execution_count": 34,
   "id": "67b68392",
   "metadata": {},
   "outputs": [],
   "source": [
    "def log_softmax(x):\n",
    "    e_x = np.exp(x-np.max(x))\n",
    "    return np.log(e_x/e_x.sum())"
   ]
  },
  {
   "cell_type": "code",
   "execution_count": 35,
   "id": "15a5dfc3",
   "metadata": {},
   "outputs": [],
   "source": [
    "# negative log likelihood (NLL) loss function\n",
    "def NLLLoss(logs,targets):\n",
    "    out = logs[range(len(targets)),targets]\n",
    "    return -out.sum()/len(out)"
   ]
  },
  {
   "cell_type": "code",
   "execution_count": 36,
   "id": "c8c7ba84",
   "metadata": {},
   "outputs": [],
   "source": [
    "def log_softmax_crossentropy_with_logits(logits,target):\n",
    "    \n",
    "    out = np.zeros_like(logits)\n",
    "    out[np.arange(len(logits)),target] = 1\n",
    "    \n",
    "    softmax = np.exp(logits) / np.exp(logits).sum(axis=-1,keepdims=True)\n",
    "    \n",
    "    return (-out + softmax) / logits.shape[0]    "
   ]
  },
  {
   "cell_type": "code",
   "execution_count": 37,
   "id": "8382889f",
   "metadata": {},
   "outputs": [],
   "source": [
    "def forward(context_idx,theta):\n",
    "    m = embeddings[context_idx].reshape(1,-1)\n",
    "    n = linear(m,theta)\n",
    "    o = log_softmax(n)\n",
    "    \n",
    "    return m,n,o"
   ]
  },
  {
   "cell_type": "code",
   "execution_count": 38,
   "id": "03ee38f3",
   "metadata": {},
   "outputs": [],
   "source": [
    "def backward(pred,theta,target_idx):\n",
    "    m,n,o = pred\n",
    "    \n",
    "    dlog = log_softmax_crossentropy_with_logits(n,target_idx)\n",
    "    dw = m.T.dot(dlog)\n",
    "    \n",
    "    return dw"
   ]
  },
  {
   "cell_type": "code",
   "execution_count": 39,
   "id": "fce2b6e7",
   "metadata": {},
   "outputs": [],
   "source": [
    "def optimize(theta,grad,lr=0.03):\n",
    "    \n",
    "    theta -=grad*lr\n",
    "    return theta"
   ]
  },
  {
   "cell_type": "code",
   "execution_count": 40,
   "id": "31cceeba",
   "metadata": {},
   "outputs": [],
   "source": [
    "theta = np.random.uniform(-1,1,(2*embed_dim*context_size,vocab_size))"
   ]
  },
  {
   "cell_type": "code",
   "execution_count": 42,
   "id": "4dc3f8f0",
   "metadata": {},
   "outputs": [],
   "source": [
    "# print(words)\n",
    "# context,target = data\n",
    "# print(data)\n",
    "epoch_losses = {}\n",
    "\n",
    "for epoch in range(0,80):\n",
    "    \n",
    "    losses = []\n",
    "    \n",
    "    for context,target in data:\n",
    "        context_idx = np.array([words_to_ix[w] for w in context])\n",
    "        preds = forward(context_idx,theta)\n",
    "        \n",
    "        target_idx = np.array([words_to_ix[target]])\n",
    "        loss = NLLLoss(preds[-1],target_idx)\n",
    "        \n",
    "        losses.append(loss)\n",
    "        \n",
    "        grad = backward(preds,theta,target_idx)\n",
    "        opt = optimize(theta,grad,0.03)\n",
    "        \n",
    "    epoch_losses[epoch] = losses"
   ]
  },
  {
   "cell_type": "code",
   "execution_count": 43,
   "id": "51b95fdf",
   "metadata": {},
   "outputs": [
    {
     "data": {
      "text/plain": [
       "Text(0.5, 0, 'epoch')"
      ]
     },
     "execution_count": 43,
     "metadata": {},
     "output_type": "execute_result"
    },
    {
     "data": {
      "image/png": "[encoded data removed]",
      "text/plain": [
       "<Figure size 432x288 with 1 Axes>"
      ]
     },
     "metadata": {
      "needs_background": "light"
     },
     "output_type": "display_data"
    }
   ],
   "source": [
    "ix = np.arange(0,80)\n",
    "\n",
    "plt.plot(ix,[epoch_losses[i][0] for i in range(0,80)])\n",
    "plt.xlabel('epoch')"
   ]
  },
  {
   "cell_type": "code",
   "execution_count": 45,
   "id": "29fee926",
   "metadata": {},
   "outputs": [],
   "source": [
    "def predict(context,theta):\n",
    "    context_idx = np.array([words_to_ix[w] for w in context])\n",
    "    preds = forward(context_idx,theta)\n",
    "    \n",
    "    word = ix_to_words[np.argmax(preds[-1])]\n",
    "    \n",
    "    return word"
   ]
  },
  {
   "cell_type": "code",
   "execution_count": 46,
   "id": "c2a2a64f",
   "metadata": {},
   "outputs": [
    {
     "data": {
      "text/plain": [
       "'about'"
      ]
     },
     "execution_count": 46,
     "metadata": {},
     "output_type": "execute_result"
    }
   ],
   "source": [
    "predict(['we', 'are', 'to', 'study'],theta)"
   ]
  },
  {
   "cell_type": "code",
   "execution_count": 47,
   "id": "9336fd2c",
   "metadata": {},
   "outputs": [
    {
     "data": {
      "text/plain": [
       "'that'"
      ]
     },
     "execution_count": 47,
     "metadata": {},
     "output_type": "execute_result"
    }
   ],
   "source": [
    "predict(['abstract', 'beings', 'inhabit', 'computers'],theta)"
   ]
  },
  {
   "cell_type": "code",
   "execution_count": 48,
   "id": "d9845233",
   "metadata": {},
   "outputs": [],
   "source": [
    "def evaluateModel():\n",
    "    \n",
    "    wrong=0\n",
    "    \n",
    "    for context,target in data:\n",
    "        if(predict(context,theta) != target):\n",
    "            wrong+=1\n",
    "    return 1-(wrong/len(data))"
   ]
  },
  {
   "cell_type": "code",
   "execution_count": 49,
   "id": "11eefc97",
   "metadata": {},
   "outputs": [
    {
     "data": {
      "text/plain": [
       "1.0"
      ]
     },
     "execution_count": 49,
     "metadata": {},
     "output_type": "execute_result"
    }
   ],
   "source": [
    "evaluateModel()"
   ]
  },
  {
   "cell_type": "code",
   "execution_count": null,
   "id": "dbd2c39b",
   "metadata": {},
   "outputs": [],
   "source": []
  },
  {
   "cell_type": "code",
   "execution_count": null,
   "id": "4bae94e5",
   "metadata": {},
   "outputs": [],
   "source": []
  }
 ],
 "metadata": {
  "kernelspec": {
   "display_name": "Python 3 (ipykernel)",
   "language": "python",
   "name": "python3"
  },
  "language_info": {
   "codemirror_mode": {
    "name": "ipython",
    "version": 3
   },
   "file_extension": ".py",
   "mimetype": "text/x-python",
   "name": "python",
   "nbconvert_exporter": "python",
   "pygments_lexer": "ipython3",
   "version": "3.10.5"
  }
 },
 "nbformat": 4,
 "nbformat_minor": 5
}
